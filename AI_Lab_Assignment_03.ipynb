{
  "nbformat": 4,
  "nbformat_minor": 0,
  "metadata": {
    "colab": {
      "provenance": []
    },
    "kernelspec": {
      "name": "python3",
      "display_name": "Python 3"
    },
    "language_info": {
      "name": "python"
    }
  },
  "cells": [
    {
      "cell_type": "code",
      "source": [
        "# 1. Write a python program using filter function to a list of squares of numbers from 1-10. Then using the for.. in construct to sum the elements on the list generated.\n",
        "\n",
        "def square(x):\n",
        "  return x*x\n",
        "squared_numbers = list(filter(square, range(1, 11)))\n",
        "sum = 0\n",
        "for num in squared_numbers:\n",
        "  sum += num\n",
        "\n",
        "print(\"The sum of the squares is:\", sum)\n"
      ],
      "metadata": {
        "colab": {
          "base_uri": "https://localhost:8080/"
        },
        "id": "cH4MocMxM1pi",
        "outputId": "a4ac422e-1882-489a-90ad-11d279edc1c8"
      },
      "execution_count": 2,
      "outputs": [
        {
          "output_type": "stream",
          "name": "stdout",
          "text": [
            "The sum of the squares is: 55\n"
          ]
        }
      ]
    },
    {
      "cell_type": "code",
      "source": [
        "# 2. Write a python program the defines a list countries that are a member of BRICS. Check whether a country is a member of BRICS or not.\n",
        "\n",
        "# create a list of BRICS countries\n",
        "Country_List = [\"Brazil\", \"Russia\", \"India\", \"China\", \"South Africa\"]\n",
        "country = input(\"Enter a country: \")\n",
        "print(\"This is a member of BRICS\" if country in Country_List else \"This is not a member of BRICS\")\n"
      ],
      "metadata": {
        "id": "ZgxPq121NRur"
      },
      "execution_count": null,
      "outputs": []
    },
    {
      "cell_type": "code",
      "source": [
        "# 3. Write a python program to print index at which a particular value exist. If the value exists a multiple location in the list, then print all the indices. Also count the number of times that value is repeated in the list.\n",
        "\n",
        "def find_indices(lst, value):\n",
        "  indices = []\n",
        "  for i, v in enumerate(lst):\n",
        "    if v == value:\n",
        "      indices.append(i)\n",
        "  return indices\n",
        "\n",
        "# Example usage\n",
        "my_list = [1, 2, 3, 2, 4, 2, 5]\n",
        "print(\"My List\", my_list)\n",
        "value_to_find = 2\n",
        "\n",
        "indices = find_indices(my_list, value_to_find)\n",
        "if indices:\n",
        "  print(f\"The value {value_to_find} is found at indices: {indices}\")\n",
        "  count = len(indices)\n",
        "  print(f\"It appears {count} times in the list.\")\n",
        "else:\n",
        "  print(f\"The value {value_to_find} is not found in the list.\")\n"
      ],
      "metadata": {
        "colab": {
          "base_uri": "https://localhost:8080/"
        },
        "id": "hpPjza7QPRHC",
        "outputId": "de8fc219-43cc-44ea-eff7-ed15dc6a5418"
      },
      "execution_count": 3,
      "outputs": [
        {
          "output_type": "stream",
          "name": "stdout",
          "text": [
            "The value 2 is found at indices: [1, 3, 5]\n",
            "It appears 3 times in the list.\n"
          ]
        }
      ]
    },
    {
      "cell_type": "code",
      "source": [
        "# 4. write a python program that creates two sets – squares and cubes in range 1-10. Demonstrate the using of update(),pop(),remove(),add(),and clear() functions.\n",
        "\n",
        "# Create sets for squares and cubes\n",
        "squares = {x**2 for x in range(1, 11)}\n",
        "cubes = {x**3 for x in range(1, 11)}\n",
        "\n",
        "# Demonstrate update()\n",
        "squares.update(cubes)\n",
        "print(\"Squares after update:\", squares)\n",
        "\n",
        "# Demonstrate pop()\n",
        "popped_value = squares.pop()\n",
        "print(\"Popped value:\", popped_value)\n",
        "print(\"Squares after pop:\", squares)\n",
        "\n",
        "# Demonstrate remove()\n",
        "squares.remove(81)  # Remove a specific element\n",
        "print(\"Squares after removing 81:\", squares)\n",
        "\n",
        "# Demonstrate add()\n",
        "squares.add(121)  # Add a new element\n",
        "print(\"Squares after adding 121:\", squares)\n",
        "\n",
        "# Demonstrate clear()\n",
        "cubes.clear()\n",
        "print(\"Cubes after clear:\", cubes)  # Empty set\n"
      ],
      "metadata": {
        "colab": {
          "base_uri": "https://localhost:8080/"
        },
        "id": "a4kBNH8_Ptx_",
        "outputId": "854dbb94-ef9b-4a21-fa98-b257fe8571e0"
      },
      "execution_count": 4,
      "outputs": [
        {
          "output_type": "stream",
          "name": "stdout",
          "text": [
            "Squares after update: {64, 1, 512, 4, 8, 9, 16, 81, 343, 216, 25, 729, 27, 36, 100, 1000, 49, 125}\n",
            "Popped value: 64\n",
            "Squares after pop: {1, 512, 4, 8, 9, 16, 81, 343, 216, 25, 729, 27, 36, 100, 1000, 49, 125}\n",
            "Squares after removing 81: {1, 512, 4, 8, 9, 16, 343, 216, 25, 729, 27, 36, 100, 1000, 49, 125}\n",
            "Squares after adding 121: {1, 512, 4, 8, 9, 16, 343, 216, 25, 729, 27, 36, 100, 1000, 49, 121, 125}\n",
            "Cubes after clear: set()\n"
          ]
        }
      ]
    },
    {
      "cell_type": "code",
      "source": [
        "# Create sets for squares and cubes in the range 1-10\n",
        "squares = {x**2 for x in range(1, 11)}\n",
        "cubes = {x**3 for x in range(1, 11)}\n",
        "\n",
        "# Demonstrate the use of update() function\n",
        "print(\"Original squares set:\", squares)\n",
        "squares.update(cubes)\n",
        "print(\"Squares set after update with cubes:\", squares)\n",
        "\n",
        "# Demonstrate the use of pop() function\n",
        "popped_element = squares.pop()\n",
        "print(f\"Popped element: {popped_element}\")\n",
        "print(\"Squares set after pop:\", squares)\n",
        "\n",
        "# Demonstrate the use of remove() function\n",
        "squares.remove(64)  # Remove element 64 if it exists\n",
        "print(\"Squares set after removing 64:\", squares)\n",
        "\n",
        "# Demonstrate the use of add() function\n",
        "squares.add(144)\n",
        "print(\"Squares set after adding 144:\", squares)\n",
        "\n",
        "# Demonstrate the use of clear() function\n",
        "squares.clear()\n",
        "print(\"Squares set after clear:\", squares)\n"
      ],
      "metadata": {
        "colab": {
          "base_uri": "https://localhost:8080/",
          "height": 280
        },
        "id": "-t_JkJysRqb4",
        "outputId": "1ce7205f-f298-4a8d-de96-4d5796d6da0b"
      },
      "execution_count": 11,
      "outputs": [
        {
          "output_type": "stream",
          "name": "stdout",
          "text": [
            "Original squares set: {64, 1, 4, 36, 100, 9, 16, 49, 81, 25}\n",
            "Squares set after update with cubes: {64, 1, 512, 4, 8, 9, 16, 81, 343, 216, 25, 729, 27, 36, 100, 1000, 49, 125}\n",
            "Popped element: 64\n",
            "Squares set after pop: {1, 512, 4, 8, 9, 16, 81, 343, 216, 25, 729, 27, 36, 100, 1000, 49, 125}\n"
          ]
        },
        {
          "output_type": "error",
          "ename": "KeyError",
          "evalue": "64",
          "traceback": [
            "\u001b[0;31m---------------------------------------------------------------------------\u001b[0m",
            "\u001b[0;31mKeyError\u001b[0m                                  Traceback (most recent call last)",
            "\u001b[0;32m<ipython-input-11-aae13351e6f7>\u001b[0m in \u001b[0;36m<cell line: 16>\u001b[0;34m()\u001b[0m\n\u001b[1;32m     14\u001b[0m \u001b[0;34m\u001b[0m\u001b[0m\n\u001b[1;32m     15\u001b[0m \u001b[0;31m# Demonstrate the use of remove() function\u001b[0m\u001b[0;34m\u001b[0m\u001b[0;34m\u001b[0m\u001b[0m\n\u001b[0;32m---> 16\u001b[0;31m \u001b[0msquares\u001b[0m\u001b[0;34m.\u001b[0m\u001b[0mremove\u001b[0m\u001b[0;34m(\u001b[0m\u001b[0;36m64\u001b[0m\u001b[0;34m)\u001b[0m  \u001b[0;31m# Remove element 64 if it exists\u001b[0m\u001b[0;34m\u001b[0m\u001b[0;34m\u001b[0m\u001b[0m\n\u001b[0m\u001b[1;32m     17\u001b[0m \u001b[0mprint\u001b[0m\u001b[0;34m(\u001b[0m\u001b[0;34m\"Squares set after removing 64:\"\u001b[0m\u001b[0;34m,\u001b[0m \u001b[0msquares\u001b[0m\u001b[0;34m)\u001b[0m\u001b[0;34m\u001b[0m\u001b[0;34m\u001b[0m\u001b[0m\n\u001b[1;32m     18\u001b[0m \u001b[0;34m\u001b[0m\u001b[0m\n",
            "\u001b[0;31mKeyError\u001b[0m: 64"
          ]
        }
      ]
    }
  ]
}